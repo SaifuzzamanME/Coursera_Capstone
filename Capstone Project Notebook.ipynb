{
 "cells": [
  {
   "cell_type": "markdown",
   "metadata": {},
   "source": [
    "<a href=\"https://saifantor.weebly.com\"><img src = \"https://i1.rgstatic.net/ii/profile.image/763778891280385-1559110486181_Q512/Saifuzzaman_Antor.jpg\" align=\"center\" width = 200> </a>\n",
    "<p style=\"text-align:center;\"><font size = 5><strong>Saifuzzaman Antor</strong></font></h1>\n",
    "<p style=\"text-align:center;\"><font size = 2>Undergraduate Student<br>Department of Mechanical Engineering<br>Bangladesh University of Engineering & technology</font></p>\n",
    "<a href=\"https://saifantor.weebly.com\"><p style=\"text-align:center\">saifantor.weebly.com</p></a>\n",
    "<p style=\"text-align:center;\"><font size = 5>This Repository is only for 'Applied Data Science Capstone'</font></p>"
   ]
  },
  {
   "cell_type": "code",
   "execution_count": 7,
   "metadata": {},
   "outputs": [
    {
     "name": "stdout",
     "output_type": "stream",
     "text": [
      "Hello Capstone Project Course!\n"
     ]
    }
   ],
   "source": [
    "import pandas as pd\n",
    "import numpy as np\n",
    "print('Hello Capstone Project Course!')"
   ]
  },
  {
   "cell_type": "code",
   "execution_count": null,
   "metadata": {},
   "outputs": [],
   "source": []
  }
 ],
 "metadata": {
  "kernelspec": {
   "display_name": "Python 3",
   "language": "python",
   "name": "python3"
  },
  "language_info": {
   "codemirror_mode": {
    "name": "ipython",
    "version": 3
   },
   "file_extension": ".py",
   "mimetype": "text/x-python",
   "name": "python",
   "nbconvert_exporter": "python",
   "pygments_lexer": "ipython3",
   "version": "3.7.6"
  }
 },
 "nbformat": 4,
 "nbformat_minor": 4
}
